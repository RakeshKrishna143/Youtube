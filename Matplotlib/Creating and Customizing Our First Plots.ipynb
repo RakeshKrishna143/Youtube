{
 "cells": [
  {
   "cell_type": "code",
   "execution_count": null,
   "id": "633be598",
   "metadata": {},
   "outputs": [],
   "source": [
    "from matplotlib import pyplot as plt"
   ]
  },
  {
   "cell_type": "code",
   "execution_count": null,
   "id": "8bab0c54",
   "metadata": {},
   "outputs": [],
   "source": [
    "dev_x = [25, 26, 27, 28, 29, 30, 31, 32, 33, 34, 35]\n",
    "dev_y = [38496, 42000, 46752, 49320, 53200,56000, 62316, 64928, 67317, 68748, 73752]\n",
    "py_dev_y = [45372, 48876, 53850, 57287, 63016,65998, 70003, 70000, 71496, 75370, 83640]"
   ]
  },
  {
   "cell_type": "code",
   "execution_count": null,
   "id": "fe676ebf",
   "metadata": {},
   "outputs": [],
   "source": [
    "# Simple plot\n",
    "plt.plot(dev_x,dev_y)\n",
    "plt.plot(dev_x,py_dev_y)\n",
    "plt.show()"
   ]
  },
  {
   "cell_type": "code",
   "execution_count": null,
   "id": "26e9d3c9",
   "metadata": {},
   "outputs": [],
   "source": [
    "# Adding xlabel, ylabel, title, legend\n",
    "plt.xlabel('Ages')\n",
    "plt.ylabel('Median salary')\n",
    "plt.title('Median salary by age')\n",
    "plt.plot(dev_x,dev_y,label='All developers')\n",
    "plt.plot(dev_x,py_dev_y,label='Python developers')\n",
    "plt.legend()\n",
    "plt.show()"
   ]
  },
  {
   "cell_type": "code",
   "execution_count": null,
   "id": "15580fe4",
   "metadata": {},
   "outputs": [],
   "source": [
    "# Adding linewidth, linestyle, color\n",
    "plt.xlabel('Ages')\n",
    "plt.ylabel('Median salary')\n",
    "plt.title('Median salary by age')\n",
    "plt.plot(dev_x,dev_y,label='All developers',color='r',linestyle='--',linewidth=2)\n",
    "plt.plot(dev_x,py_dev_y,label='Python developers',color='g',linestyle='-',linewidth=3)\n",
    "plt.legend()\n",
    "plt.show()"
   ]
  },
  {
   "cell_type": "code",
   "execution_count": null,
   "id": "1d59eafd",
   "metadata": {},
   "outputs": [],
   "source": [
    "# Adding marker, grid\n",
    "plt.xlabel('Ages')\n",
    "plt.ylabel('Median salary')\n",
    "plt.title('Median salary by age')\n",
    "plt.plot(dev_x,dev_y,label='All developers',color='r',linestyle='--',linewidth=2,marker='.')\n",
    "plt.plot(dev_x,py_dev_y,label='Python developers',color='g',linestyle='-',linewidth=3,marker='o')\n",
    "plt.grid()\n",
    "plt.legend()\n",
    "plt.show()"
   ]
  },
  {
   "cell_type": "code",
   "execution_count": null,
   "id": "5025493a",
   "metadata": {},
   "outputs": [],
   "source": [
    "# defaultly available styles\n",
    "plt.style.available"
   ]
  },
  {
   "cell_type": "code",
   "execution_count": null,
   "id": "200388fc",
   "metadata": {},
   "outputs": [],
   "source": [
    "# using default styles to plot\n",
    "plt.style.use('fivethirtyeight')\n",
    "plt.xlabel('Ages')\n",
    "plt.ylabel('Median salary')\n",
    "plt.title('Median salary by age')\n",
    "plt.plot(dev_x,dev_y,label='All developers',color='r',linestyle='--',linewidth=2,marker='.')\n",
    "plt.plot(dev_x,py_dev_y,label='Python developers',color='g',linestyle='-',linewidth=3,marker='o')\n",
    "plt.grid(True)\n",
    "plt.legend()\n",
    "plt.show()"
   ]
  },
  {
   "cell_type": "code",
   "execution_count": null,
   "id": "64f4793e",
   "metadata": {},
   "outputs": [],
   "source": [
    "# Save the plot\n",
    "plt.style.use('fivethirtyeight')\n",
    "plt.xlabel('Ages')\n",
    "plt.ylabel('Median salary')\n",
    "plt.title('Median salary by age')\n",
    "plt.plot(dev_x,dev_y,label='All developers',color='r',linestyle='--',linewidth=2,marker='.')\n",
    "plt.plot(dev_x,py_dev_y,label='Python developers',color='g',linestyle='-',linewidth=3,marker='o')\n",
    "plt.grid(True)\n",
    "plt.legend()\n",
    "plt.savefig('Comparison.png')\n",
    "plt.show()"
   ]
  },
  {
   "cell_type": "code",
   "execution_count": null,
   "id": "79ef6195",
   "metadata": {},
   "outputs": [],
   "source": [
    "%matplotlib\n",
    "plt.style.use('fivethirtyeight')\n",
    "plt.xlabel('Ages')\n",
    "plt.ylabel('Median salary')\n",
    "plt.title('Median salary by age')\n",
    "plt.plot(dev_x,dev_y,label='All developers',color='r',linestyle='--',linewidth=2,marker='.')\n",
    "plt.plot(dev_x,py_dev_y,label='Python developers',color='g',linestyle='-',linewidth=3,marker='o')\n",
    "plt.grid(True)\n",
    "plt.legend()\n",
    "plt.show()"
   ]
  },
  {
   "cell_type": "code",
   "execution_count": null,
   "id": "00e977e4",
   "metadata": {},
   "outputs": [],
   "source": []
  }
 ],
 "metadata": {
  "kernelspec": {
   "display_name": "Python 3",
   "language": "python",
   "name": "python3"
  },
  "language_info": {
   "codemirror_mode": {
    "name": "ipython",
    "version": 3
   },
   "file_extension": ".py",
   "mimetype": "text/x-python",
   "name": "python",
   "nbconvert_exporter": "python",
   "pygments_lexer": "ipython3",
   "version": "3.6.8"
  }
 },
 "nbformat": 4,
 "nbformat_minor": 5
}
